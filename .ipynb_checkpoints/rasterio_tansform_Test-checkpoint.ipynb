{
 "cells": [
  {
   "cell_type": "code",
   "execution_count": 9,
   "metadata": {},
   "outputs": [],
   "source": [
    "from zipfile import ZipFile"
   ]
  },
  {
   "cell_type": "code",
   "execution_count": 20,
   "metadata": {
    "scrolled": true
   },
   "outputs": [],
   "source": [
    "ZipFile(\"./orbview_data/orbview_3.zip\").extractall(\"./orbview_data\")"
   ]
  },
  {
   "cell_type": "code",
   "execution_count": 22,
   "metadata": {},
   "outputs": [],
   "source": [
    "import gdal\n",
    "import rasterio\n",
    "from affine import Affine\n",
    "from rasterio.warp import calculate_default_transform, reproject, Resampling"
   ]
  },
  {
   "cell_type": "code",
   "execution_count": 23,
   "metadata": {},
   "outputs": [
    {
     "name": "stdout",
     "output_type": "stream",
     "text": [
      "| 4.78, 0.00, 721580.49|\n",
      "| 0.00,-4.78, 5325583.84|\n",
      "| 0.00, 0.00, 1.00|\n",
      "| 4.78, 0.00, 721573.25|\n",
      "| 0.00,-4.78, 5325618.92|\n",
      "| 0.00, 0.00, 1.00|\n"
     ]
    }
   ],
   "source": [
    "dst_crs = 'EPSG:32632' \n",
    "with rasterio.open('./orbview_data/orbview_3.tif') as src:\n",
    "    transform, width, height = calculate_default_transform(\n",
    "        src.crs, dst_crs, src.width, src.height, *src.bounds)\n",
    "    print(src.transform)\n",
    "    new_transform = Affine(src.transform[0], src.transform[1],\n",
    "                           src.transform[2]-7.247,\n",
    "                           src.transform[3],src.transform[4],\n",
    "                           src.transform[5]+ 35.08)\n",
    "    print(new_transform)\n",
    "    kwargs = src.meta.copy()\n",
    "    kwargs.update({\n",
    "        'crs': src.crs,\n",
    "        'transform': new_transform,\n",
    "        'width': width,\n",
    "        'height': height\n",
    "    })\n",
    "    with rasterio.open('./orbview_data/orbview_3_shif.tif', 'w', **kwargs) as dst:\n",
    "        for i in range(1, src.count + 1):\n",
    "            reproject(\n",
    "                source=rasterio.band(src, i),\n",
    "                destination=rasterio.band(dst, i),\n",
    "                src_transform=transform,\n",
    "                src_crs=src.crs,\n",
    "                dst_transform=new_transform,\n",
    "                dst_crs=dst_crs,\n",
    "                resampling=Resampling.nearest)   "
   ]
  },
  {
   "cell_type": "code",
   "execution_count": 24,
   "metadata": {},
   "outputs": [
    {
     "data": {
      "text/plain": [
       "(721580.4928305858,\n",
       " 4.778836750062894,\n",
       " 0.0,\n",
       " 5325583.842375242,\n",
       " 0.0,\n",
       " -4.778836750062894)"
      ]
     },
     "execution_count": 24,
     "metadata": {},
     "output_type": "execute_result"
    }
   ],
   "source": [
    "OV_path = './orbview_data/orbview_3.tif' #input composite raster\n",
    "# ignore\n",
    "# Open in read/write mode\n",
    "OV_src = gdal.Open(OV_path,1)\n",
    "\n",
    "# Get affine transform coefficients\n",
    "gt = OV_src.GetGeoTransform()\n",
    "gt"
   ]
  },
  {
   "cell_type": "code",
   "execution_count": 25,
   "metadata": {},
   "outputs": [
    {
     "name": "stdout",
     "output_type": "stream",
     "text": [
      "[721573.2458305858, 4.778836750062894, 0.0, 5325618.922375242, 0.0, -4.778836750062894]\n"
     ]
    }
   ],
   "source": [
    "dx =-7.247\n",
    "dy= 35.08\n",
    "\n",
    "# Convert tuple to list, so we can modify it\n",
    "gtl = list(gt)\n",
    "gtl[0] += dx \n",
    "gtl[3] += dy \n",
    "print(gtl)\n",
    "OV_src.SetGeoTransform(tuple(gtl))\n",
    "OV_src = None"
   ]
  }
 ],
 "metadata": {
  "kernelspec": {
   "display_name": "Python 3",
   "language": "python",
   "name": "python3"
  },
  "language_info": {
   "codemirror_mode": {
    "name": "ipython",
    "version": 3
   },
   "file_extension": ".py",
   "mimetype": "text/x-python",
   "name": "python",
   "nbconvert_exporter": "python",
   "pygments_lexer": "ipython3",
   "version": "3.8.3"
  }
 },
 "nbformat": 4,
 "nbformat_minor": 4
}
